{
 "cells": [
  {
   "cell_type": "code",
   "execution_count": null,
   "id": "906fbca7",
   "metadata": {},
   "outputs": [],
   "source": [
    "1. For this challenge, forget how to add two numbers together. The best\n",
    "explanation on what to do for this function is this meme:\n",
    "\n",
    "Examples\n",
    "meme_sum(26, 39) ➞ 515\n",
    "# 2+3 = 5, 6+9 = 15\n",
    "# 26 + 39 = 515\n",
    "meme_sum(122, 81) ➞ 1103\n",
    "# 1+0 = 1, 2+8 = 10, 2+1 = 3\n",
    "# 122 + 81 = 1103\n",
    "meme_sum(1222, 30277) ➞ 31499"
   ]
  },
  {
   "cell_type": "code",
   "execution_count": 56,
   "id": "2f6d136f",
   "metadata": {},
   "outputs": [],
   "source": [
    "def meme_sum(a,b):\n",
    "    a = str(a)\n",
    "    b = str(b)\n",
    "    a1 = \"\"\n",
    "    b1 = \"\"\n",
    "    if len(a)==len(b):\n",
    "        a1 = a\n",
    "        b1 = b\n",
    "    elif len(a) > len(b):\n",
    "        diff = len(a)-len(b)\n",
    "        for i in range(diff):\n",
    "            b1 = b1+'0'\n",
    "        for i in range(len(b)):\n",
    "            b1 = b1+b[i]\n",
    "        a1 = a\n",
    "    elif len(a)< len(b):\n",
    "        diff = len(b)-len(a) \n",
    "        for i in range(diff):\n",
    "            a1 = a1+'0'\n",
    "        for i in range(len(a)):\n",
    "            a1 = a1+a[i]\n",
    "        b1 = b\n",
    "    s = \"\"\n",
    "    for i in range(len(a1)):\n",
    "        s = s+ str(int(a1[i])+int(b1[i]))\n",
    "    return int(s)\n"
   ]
  },
  {
   "cell_type": "code",
   "execution_count": 57,
   "id": "a09a2e14",
   "metadata": {},
   "outputs": [
    {
     "data": {
      "text/plain": [
       "515"
      ]
     },
     "execution_count": 57,
     "metadata": {},
     "output_type": "execute_result"
    }
   ],
   "source": [
    "meme_sum(26, 39)"
   ]
  },
  {
   "cell_type": "code",
   "execution_count": 58,
   "id": "34c76085",
   "metadata": {},
   "outputs": [
    {
     "data": {
      "text/plain": [
       "1103"
      ]
     },
     "execution_count": 58,
     "metadata": {},
     "output_type": "execute_result"
    }
   ],
   "source": [
    "meme_sum(122, 81)"
   ]
  },
  {
   "cell_type": "code",
   "execution_count": 59,
   "id": "ef32248a",
   "metadata": {},
   "outputs": [
    {
     "data": {
      "text/plain": [
       "31499"
      ]
     },
     "execution_count": 59,
     "metadata": {},
     "output_type": "execute_result"
    }
   ],
   "source": [
    "meme_sum(1222, 30277)"
   ]
  },
  {
   "cell_type": "code",
   "execution_count": null,
   "id": "0a34b5b6",
   "metadata": {},
   "outputs": [],
   "source": [
    "2. Given an integer, create a function that returns the next prime. If the\n",
    "number is prime, return the number itself.\n",
    "Examples\n",
    "\n",
    "next_prime(12) ➞ 13\n",
    "next_prime(24) ➞ 29\n",
    "next_prime(11) ➞ 11\n",
    "# 11 is a prime, so we return the number itself.\n"
   ]
  },
  {
   "cell_type": "code",
   "execution_count": 60,
   "id": "0283ac98",
   "metadata": {},
   "outputs": [],
   "source": [
    "def isprime(n):\n",
    "    if n==1:\n",
    "        return True\n",
    "    else:\n",
    "        for i in range(2,int(n/2)+1):\n",
    "            if n%i==0:\n",
    "                return False\n",
    "        return True\n",
    "def next_prime(x):\n",
    "    if isprime(x):\n",
    "        return x\n",
    "    else:\n",
    "        while(isprime(x)!= True):\n",
    "            x = x+1\n",
    "        return x\n",
    "        "
   ]
  },
  {
   "cell_type": "code",
   "execution_count": 61,
   "id": "97415b53",
   "metadata": {},
   "outputs": [
    {
     "data": {
      "text/plain": [
       "13"
      ]
     },
     "execution_count": 61,
     "metadata": {},
     "output_type": "execute_result"
    }
   ],
   "source": [
    "next_prime(12)"
   ]
  },
  {
   "cell_type": "code",
   "execution_count": 3,
   "id": "5e00392c",
   "metadata": {},
   "outputs": [
    {
     "data": {
      "text/plain": [
       "29"
      ]
     },
     "execution_count": 3,
     "metadata": {},
     "output_type": "execute_result"
    }
   ],
   "source": [
    "next_prime(24) "
   ]
  },
  {
   "cell_type": "code",
   "execution_count": 4,
   "id": "185fcea7",
   "metadata": {},
   "outputs": [
    {
     "data": {
      "text/plain": [
       "11"
      ]
     },
     "execution_count": 4,
     "metadata": {},
     "output_type": "execute_result"
    }
   ],
   "source": [
    "next_prime(11) "
   ]
  },
  {
   "cell_type": "code",
   "execution_count": null,
   "id": "a9288886",
   "metadata": {},
   "outputs": [],
   "source": [
    "3. If a person traveled up a hill for 18mins at 20mph and then traveled back\n",
    "down the same path at 60mph then their average speed traveled was 30mph.\n",
    "Write a function that returns the average speed traveled given an uphill time,\n",
    "uphill rate and a downhill rate. Uphill time is given in minutes. Return the rate\n",
    "as an integer (mph). No rounding is necessary.\n",
    "Examples\n"
   ]
  },
  {
   "cell_type": "code",
   "execution_count": 19,
   "id": "8f1be2b3",
   "metadata": {},
   "outputs": [],
   "source": [
    "def ave_spd(t1,s1,s2):\n",
    "    uptime = t1/60\n",
    "    distance = s1*uptime\n",
    "    total_distance = distance*2\n",
    "    downtime = distance/s2\n",
    "    total_time = uptime+downtime\n",
    "    total_speed = total_distance/total_time\n",
    "    return int(total_speed)"
   ]
  },
  {
   "cell_type": "code",
   "execution_count": 23,
   "id": "f6c26138",
   "metadata": {},
   "outputs": [
    {
     "data": {
      "text/plain": [
       "30"
      ]
     },
     "execution_count": 23,
     "metadata": {},
     "output_type": "execute_result"
    }
   ],
   "source": [
    "ave_spd(18, 20, 60)"
   ]
  },
  {
   "cell_type": "code",
   "execution_count": 21,
   "id": "f723ad69",
   "metadata": {},
   "outputs": [
    {
     "data": {
      "text/plain": [
       "15"
      ]
     },
     "execution_count": 21,
     "metadata": {},
     "output_type": "execute_result"
    }
   ],
   "source": [
    "ave_spd(30, 10, 30)"
   ]
  },
  {
   "cell_type": "code",
   "execution_count": 22,
   "id": "a8f693e4",
   "metadata": {},
   "outputs": [
    {
     "data": {
      "text/plain": [
       "12"
      ]
     },
     "execution_count": 22,
     "metadata": {},
     "output_type": "execute_result"
    }
   ],
   "source": [
    "ave_spd(30, 8, 24)"
   ]
  },
  {
   "cell_type": "code",
   "execution_count": null,
   "id": "90a7d156",
   "metadata": {},
   "outputs": [],
   "source": [
    "4. The Kempner Function, applied to a composite number, permits to find the\n",
    "smallest integer greater than zero whose factorial is exactly divided by the\n",
    "number.\n",
    "kempner(6) ➞ 3\n",
    "1! = 1 % 6 &gt; 0\n",
    "2! = 2 % 6 &gt; 0\n",
    "3! = 6 % 6 === 0\n",
    "kempner(10) ➞ 5\n",
    "1! = 1 % 10 &gt; 0\n",
    "2! = 2 % 10 &gt; 0\n",
    "3! = 6 % 10 &gt; 0\n",
    "4! = 24 % 10 &gt; 0\n",
    "5! = 120 % 10 === 0\n",
    "A Kempner Function applied to a prime will always return the prime itself.\n",
    "kempner(2) ➞ 2\n",
    "kempner(5) ➞ 5\n",
    "\n",
    "Given an integer n, implement a Kempner Function.\n",
    "Examples\n",
    "kempner(6) ➞ 3\n",
    "kempner(10) ➞ 5\n",
    "kempner(2) ➞ 2"
   ]
  },
  {
   "cell_type": "code",
   "execution_count": 1,
   "id": "2026590e",
   "metadata": {},
   "outputs": [],
   "source": [
    "def isPrime(n):\n",
    "    if n==1:\n",
    "        return True\n",
    "    else:\n",
    "        for i in range(2,int(n/2)+1):\n",
    "            if n%i==0:\n",
    "                return False\n",
    "        return True\n",
    "def fact(num):\n",
    "    factorial=1\n",
    "    for i in range(1,num + 1):\n",
    "        factorial = factorial*i\n",
    "    #   print(factorial)\n",
    "    return factorial\n",
    "    \n",
    "def kempner(n):\n",
    "    if isPrime(n):\n",
    "        return n\n",
    "    else:\n",
    "        for i in range(1,n):\n",
    "            if fact(i)%n == 0:\n",
    "                return i"
   ]
  },
  {
   "cell_type": "code",
   "execution_count": 2,
   "id": "ae1237c1",
   "metadata": {},
   "outputs": [
    {
     "data": {
      "text/plain": [
       "3"
      ]
     },
     "execution_count": 2,
     "metadata": {},
     "output_type": "execute_result"
    }
   ],
   "source": [
    "kempner(6)\n"
   ]
  },
  {
   "cell_type": "code",
   "execution_count": 3,
   "id": "1ca61e4c",
   "metadata": {},
   "outputs": [
    {
     "data": {
      "text/plain": [
       "5"
      ]
     },
     "execution_count": 3,
     "metadata": {},
     "output_type": "execute_result"
    }
   ],
   "source": [
    "kempner(10)\n"
   ]
  },
  {
   "cell_type": "code",
   "execution_count": 4,
   "id": "3eddd106",
   "metadata": {},
   "outputs": [
    {
     "data": {
      "text/plain": [
       "2"
      ]
     },
     "execution_count": 4,
     "metadata": {},
     "output_type": "execute_result"
    }
   ],
   "source": [
    "kempner(2)\n"
   ]
  },
  {
   "cell_type": "code",
   "execution_count": null,
   "id": "63584476",
   "metadata": {},
   "outputs": [],
   "source": [
    "5. You work in a factory, and your job is to take items from a conveyor belt\n",
    "and pack them into boxes. Each box can hold a maximum of 10 kgs. Given a\n",
    "list containing the weight (in kg) of each item, how many boxes would you\n",
    "need to pack all of the items?\n",
    "Example\n",
    "boxes([2, 1, 2, 5, 4, 3, 6, 1, 1, 9, 3, 2]) ➞ 5\n",
    "# Box 1 = [2, 1, 2, 5] (10kg)\n",
    "# Box 2 = [4, 3] (7kg)\n",
    "# Box 3 = [6, 1, 1] (8kg)\n",
    "# Box 4 = [9] (9kg)\n",
    "# Box 5 = [3, 2] (5kg)"
   ]
  },
  {
   "cell_type": "code",
   "execution_count": 29,
   "id": "2547ee9d",
   "metadata": {},
   "outputs": [],
   "source": [
    "def boxes(q):\n",
    "    l = len(q)\n",
    "    a = []\n",
    "    box =[]\n",
    "    i = 0\n",
    "    while l:\n",
    "        if sum(a)<=10:\n",
    "            a.append(q[i])\n",
    "            i = i+1\n",
    "            l = l-1\n",
    "        elif sum(a)> 10:\n",
    "            box.append(a[:-1:])\n",
    "            i = i-1\n",
    "            l = l+1\n",
    "            a.clear()\n",
    "    box.append(a)\n",
    "    print(\"we need {} boxes\".format(len(box)))\n",
    "    for i in range(len(box)):\n",
    "        print(\"Box{} has {} and {}kgs\".format(i+1,box[i],sum(box[i])))"
   ]
  },
  {
   "cell_type": "code",
   "execution_count": 30,
   "id": "909a85ba",
   "metadata": {},
   "outputs": [
    {
     "name": "stdout",
     "output_type": "stream",
     "text": [
      "we need 5 boxes\n",
      "Box1 has [2, 1, 2, 5] and 10kgs\n",
      "Box2 has [4, 3] and 7kgs\n",
      "Box3 has [6, 1, 1] and 8kgs\n",
      "Box4 has [9] and 9kgs\n",
      "Box5 has [3, 2] and 5kgs\n"
     ]
    }
   ],
   "source": [
    "boxes([2, 1, 2, 5, 4, 3, 6, 1, 1, 9, 3, 2])"
   ]
  },
  {
   "cell_type": "code",
   "execution_count": null,
   "id": "1716a11d",
   "metadata": {},
   "outputs": [],
   "source": []
  }
 ],
 "metadata": {
  "kernelspec": {
   "display_name": "Python 3 (ipykernel)",
   "language": "python",
   "name": "python3"
  },
  "language_info": {
   "codemirror_mode": {
    "name": "ipython",
    "version": 3
   },
   "file_extension": ".py",
   "mimetype": "text/x-python",
   "name": "python",
   "nbconvert_exporter": "python",
   "pygments_lexer": "ipython3",
   "version": "3.9.7"
  }
 },
 "nbformat": 4,
 "nbformat_minor": 5
}
