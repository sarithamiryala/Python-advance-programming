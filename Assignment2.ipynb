{
 "cells": [
  {
   "cell_type": "markdown",
   "id": "f41003ef",
   "metadata": {},
   "source": [
    "1. Write a function that takes a positive integer num and calculates how many\n",
    "dots exist in a pentagonal shape around the center dot on the Nth iteration.\n",
    "In the image below you can see the first iteration is only a single dot. On the\n",
    "second, there are 6 dots. On the third, there are 16 dots, and on the fourth\n",
    "there are 31 dots.\n",
    "\n",
    "Return the number of dots that exist in the whole pentagon on the Nth\n",
    "iteration.\n",
    "Examples\n",
    "pentagonal(1) ➞ 1\n",
    "pentagonal(2) ➞ 6\n",
    "pentagonal(3) ➞ 16\n",
    "pentagonal(8) ➞ 141\n",
    "\n"
   ]
  },
  {
   "cell_type": "code",
   "execution_count": 4,
   "id": "589b7e85",
   "metadata": {},
   "outputs": [],
   "source": [
    "def pentagonal(n):\n",
    "    x = (5*n*n-5*n+2)//2\n",
    "    return x"
   ]
  },
  {
   "cell_type": "code",
   "execution_count": 6,
   "id": "21564a46",
   "metadata": {},
   "outputs": [
    {
     "data": {
      "text/plain": [
       "1"
      ]
     },
     "execution_count": 6,
     "metadata": {},
     "output_type": "execute_result"
    }
   ],
   "source": [
    "pentagonal(1)\n"
   ]
  },
  {
   "cell_type": "code",
   "execution_count": 7,
   "id": "091e49c5",
   "metadata": {},
   "outputs": [
    {
     "data": {
      "text/plain": [
       "6"
      ]
     },
     "execution_count": 7,
     "metadata": {},
     "output_type": "execute_result"
    }
   ],
   "source": [
    "pentagonal(2)\n"
   ]
  },
  {
   "cell_type": "code",
   "execution_count": 8,
   "id": "4ca5f442",
   "metadata": {},
   "outputs": [
    {
     "data": {
      "text/plain": [
       "16"
      ]
     },
     "execution_count": 8,
     "metadata": {},
     "output_type": "execute_result"
    }
   ],
   "source": [
    "pentagonal(3)\n",
    "\n"
   ]
  },
  {
   "cell_type": "code",
   "execution_count": 9,
   "id": "2ffb8487",
   "metadata": {},
   "outputs": [
    {
     "data": {
      "text/plain": [
       "141"
      ]
     },
     "execution_count": 9,
     "metadata": {},
     "output_type": "execute_result"
    }
   ],
   "source": [
    "pentagonal(8)"
   ]
  },
  {
   "cell_type": "markdown",
   "id": "00b3fa9b",
   "metadata": {},
   "source": [
    "2. Make a function that encrypts a given input with these steps:\n",
    "Input: &quot;apple&quot;\n",
    "Step 1: Reverse the input: &quot;elppa&quot;\n",
    "Step 2: Replace all vowels using the following chart:\n",
    "a =&gt; 0\n",
    "e =&gt; 1\n",
    "i =&gt; 2\n",
    "o =&gt; 2\n",
    "u =&gt; 3\n",
    "# &quot;1lpp0&quot;\n",
    "utput: &quot;1lpp0aca&quot;\n",
    "Examples\n",
    "encrypt(&quot;banana&quot;) ➞ &quot;0n0n0baca&quot;\n",
    "encrypt(&quot;karaca&quot;) ➞ &quot;0c0r0kaca&quot;\n",
    "encrypt(&quot;burak&quot;) ➞ &quot;k0r3baca&quot;\n",
    "encrypt(&quot;alpaca&quot;) ➞ &quot;0c0pl0aca&quot;\n",
    "Step 3: Add &quot;aca&quot; to the end of the word: &quot;1lpp0aca&quot;\n",
    "O"
   ]
  },
  {
   "cell_type": "code",
   "execution_count": 27,
   "id": "85e355ad",
   "metadata": {},
   "outputs": [],
   "source": [
    "def encrypt(str1):\n",
    "    str1 = str1[::-1]\n",
    "    vowels = 'aeiou'\n",
    "    encoded = [ ]\n",
    "    encrt = {'a':0,'e':1,'i':2,'o':3,'u':4}\n",
    "    for i in range(len(str1)):\n",
    "        if str1[i] in vowels:\n",
    "            encoded.append(str(encrt[str1[i]]))\n",
    "        else:\n",
    "            encoded.append(str1[i])\n",
    "    enc = ''.join(encoded)\n",
    "    enc1 = enc + 'aca'\n",
    "    return enc1\n",
    "        \n",
    "        "
   ]
  },
  {
   "cell_type": "code",
   "execution_count": 28,
   "id": "41c7e72a",
   "metadata": {},
   "outputs": [
    {
     "data": {
      "text/plain": [
       "'0n0n0baca'"
      ]
     },
     "execution_count": 28,
     "metadata": {},
     "output_type": "execute_result"
    }
   ],
   "source": [
    "encrypt(\"banana\")"
   ]
  },
  {
   "cell_type": "code",
   "execution_count": 29,
   "id": "75af2e8a",
   "metadata": {},
   "outputs": [
    {
     "data": {
      "text/plain": [
       "'0c0r0kaca'"
      ]
     },
     "execution_count": 29,
     "metadata": {},
     "output_type": "execute_result"
    }
   ],
   "source": [
    " encrypt(\"karaca\") "
   ]
  },
  {
   "cell_type": "code",
   "execution_count": 30,
   "id": "3970cbb7",
   "metadata": {},
   "outputs": [
    {
     "data": {
      "text/plain": [
       "'k0r4baca'"
      ]
     },
     "execution_count": 30,
     "metadata": {},
     "output_type": "execute_result"
    }
   ],
   "source": [
    "encrypt(\"burak\")"
   ]
  },
  {
   "cell_type": "code",
   "execution_count": 31,
   "id": "88012e62",
   "metadata": {},
   "outputs": [
    {
     "data": {
      "text/plain": [
       "'0c0pl0aca'"
      ]
     },
     "execution_count": 31,
     "metadata": {},
     "output_type": "execute_result"
    }
   ],
   "source": [
    "encrypt(\"alpaca\")"
   ]
  },
  {
   "cell_type": "markdown",
   "id": "7b1f0f52",
   "metadata": {},
   "source": [
    "3. Given the month and year as numbers, return whether that month contains\n",
    "a Friday 13th.(i.e You can check Python&#39;s datetime module)\n",
    "Examples\n",
    "has_friday_13(3, 2020) ➞ True\n",
    "has_friday_13(10, 2017) ➞ True\n",
    "has_friday_13(1, 1985) ➞ False\n",
    "\n"
   ]
  },
  {
   "cell_type": "code",
   "execution_count": 36,
   "id": "fe793990",
   "metadata": {},
   "outputs": [],
   "source": [
    "def has_friday_13(month,year):\n",
    "    import datetime\n",
    "    d = True if datetime.datetime.strptime('13 '+' '+str(month)+' '+str(year), '%d %m %Y').weekday()==4 else False \n",
    "    return d"
   ]
  },
  {
   "cell_type": "code",
   "execution_count": 37,
   "id": "41d29808",
   "metadata": {},
   "outputs": [
    {
     "data": {
      "text/plain": [
       "True"
      ]
     },
     "execution_count": 37,
     "metadata": {},
     "output_type": "execute_result"
    }
   ],
   "source": [
    "has_friday_13(3, 2020)   "
   ]
  },
  {
   "cell_type": "code",
   "execution_count": 38,
   "id": "c9eb33aa",
   "metadata": {},
   "outputs": [
    {
     "data": {
      "text/plain": [
       "True"
      ]
     },
     "execution_count": 38,
     "metadata": {},
     "output_type": "execute_result"
    }
   ],
   "source": [
    "has_friday_13(10, 2017)"
   ]
  },
  {
   "cell_type": "code",
   "execution_count": 39,
   "id": "2144578e",
   "metadata": {},
   "outputs": [
    {
     "data": {
      "text/plain": [
       "False"
      ]
     },
     "execution_count": 39,
     "metadata": {},
     "output_type": "execute_result"
    }
   ],
   "source": [
    "has_friday_13(1, 1985) "
   ]
  },
  {
   "cell_type": "markdown",
   "id": "ffcd41de",
   "metadata": {},
   "source": [
    "4. Write a regular expression that will help us count how many bad cookies\n",
    "are produced every day. You must use RegEx negative lookbehind.\n",
    "Example\n",
    "lst = [&quot;bad cookie&quot;, &quot;good cookie&quot;, &quot;bad cookie&quot;, &quot;good cookie&quot;, &quot;good cookie&quot;]\n",
    "pattern = &quot;yourregularexpressionhere&quot;\n",
    "len(re.findall(pattern, &quot;, &quot;.join(lst))) ➞ 2\n"
   ]
  },
  {
   "cell_type": "code",
   "execution_count": 8,
   "id": "6fa2c116",
   "metadata": {},
   "outputs": [
    {
     "data": {
      "text/plain": [
       "2"
      ]
     },
     "execution_count": 8,
     "metadata": {},
     "output_type": "execute_result"
    }
   ],
   "source": [
    "import re\n",
    "lst = [\"bad cookie\", \"good cookie\", \"bad cookie\", \"good cookie\", \"good cookie\"]\n",
    "pattern = \"bad\\s\\w\"\n",
    "len(re.findall(pattern,\",\".join(lst)))"
   ]
  },
  {
   "cell_type": "markdown",
   "id": "f3575bfd",
   "metadata": {},
   "source": [
    "5. Given a list of words in the singular form, return a set of those words in the\n",
    "plural form if they appear more than once in the list.\n",
    "Examples\n",
    "pluralize([&quot;cow&quot;, &quot;pig&quot;, &quot;cow&quot;, &quot;cow&quot;]) ➞ { &quot;cows&quot;, &quot;pig&quot; }\n",
    "pluralize([&quot;table&quot;, &quot;table&quot;, &quot;table&quot;]) ➞ { &quot;tables&quot;}"
   ]
  },
  {
   "cell_type": "code",
   "execution_count": 3,
   "id": "3bef4049",
   "metadata": {},
   "outputs": [],
   "source": [
    "def pluralize(l):\n",
    "    list1 = []\n",
    "    for i in l:\n",
    "        if l.count(i)> 1:\n",
    "            list1.append(i+'s')\n",
    "        else:\n",
    "            list1.append(i)\n",
    "    return set(list1)"
   ]
  },
  {
   "cell_type": "code",
   "execution_count": 4,
   "id": "4700c703",
   "metadata": {},
   "outputs": [
    {
     "data": {
      "text/plain": [
       "{'cows', 'pig'}"
      ]
     },
     "execution_count": 4,
     "metadata": {},
     "output_type": "execute_result"
    }
   ],
   "source": [
    "pluralize([\"cow\", \"pig\", \"cow\", \"cow\"]) "
   ]
  },
  {
   "cell_type": "code",
   "execution_count": 5,
   "id": "31e5ba95",
   "metadata": {},
   "outputs": [
    {
     "data": {
      "text/plain": [
       "{'tables'}"
      ]
     },
     "execution_count": 5,
     "metadata": {},
     "output_type": "execute_result"
    }
   ],
   "source": [
    "pluralize([\"table\", \"table\", \"table\"])"
   ]
  },
  {
   "cell_type": "code",
   "execution_count": null,
   "id": "1db5c927",
   "metadata": {},
   "outputs": [],
   "source": []
  }
 ],
 "metadata": {
  "kernelspec": {
   "display_name": "Python 3 (ipykernel)",
   "language": "python",
   "name": "python3"
  },
  "language_info": {
   "codemirror_mode": {
    "name": "ipython",
    "version": 3
   },
   "file_extension": ".py",
   "mimetype": "text/x-python",
   "name": "python",
   "nbconvert_exporter": "python",
   "pygments_lexer": "ipython3",
   "version": "3.9.7"
  }
 },
 "nbformat": 4,
 "nbformat_minor": 5
}
