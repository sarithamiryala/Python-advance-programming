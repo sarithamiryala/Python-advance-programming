{
 "cells": [
  {
   "cell_type": "markdown",
   "id": "14866f93",
   "metadata": {},
   "source": [
    "1. YouTube offers different playback speed options for users. This allows\n",
    "users to increase or decrease the speed of the video content. Given the\n",
    "actual duration and playback speed of the video, calculate the playback\n",
    "duration of the video.\n",
    "Examples\n",
    "playback_duration(&quot;00:30:00&quot;, 2) ➞ &quot;00:15:00&quot;\n",
    "playback_duration(&quot;01:20:00&quot;, 1.5) ➞ &quot;00:53:20&quot;\n",
    "playback_duration(&quot;51:20:09&quot;, 0.5) ➞ &quot;102:40:18&quot;\n",
    "\n"
   ]
  },
  {
   "cell_type": "code",
   "execution_count": 10,
   "id": "ca823451",
   "metadata": {},
   "outputs": [],
   "source": [
    "import datetime\n",
    "def playback_duration(d,s):\n",
    "    hour = int(d.split(':')[0])\n",
    "    mins = int(d.split(':')[1])\n",
    "    secs = int(d.split(':')[2])\n",
    "    #converting hours in seconds\n",
    "    total = ((hour*60*60)+(mins*60)+secs)/s\n",
    "    #converting secs into hours\n",
    "    conv = datetime.timedelta(seconds = total)\n",
    "    conv_str = str(conv)\n",
    "    return conv_str\n",
    "    "
   ]
  },
  {
   "cell_type": "code",
   "execution_count": 11,
   "id": "9dba33a3",
   "metadata": {},
   "outputs": [
    {
     "data": {
      "text/plain": [
       "'0:15:00'"
      ]
     },
     "execution_count": 11,
     "metadata": {},
     "output_type": "execute_result"
    }
   ],
   "source": [
    "playback_duration(\"00:30:00\", 2)"
   ]
  },
  {
   "cell_type": "code",
   "execution_count": 12,
   "id": "e539e01f",
   "metadata": {},
   "outputs": [
    {
     "data": {
      "text/plain": [
       "'0:53:20'"
      ]
     },
     "execution_count": 12,
     "metadata": {},
     "output_type": "execute_result"
    }
   ],
   "source": [
    "playback_duration(\"01:20:00\", 1.5)"
   ]
  },
  {
   "cell_type": "code",
   "execution_count": 13,
   "id": "d071e5e4",
   "metadata": {},
   "outputs": [
    {
     "data": {
      "text/plain": [
       "'4 days, 6:40:18'"
      ]
     },
     "execution_count": 13,
     "metadata": {},
     "output_type": "execute_result"
    }
   ],
   "source": [
    "playback_duration(\"51:20:09\", 0.5) "
   ]
  },
  {
   "cell_type": "code",
   "execution_count": 9,
   "id": "156dfffb",
   "metadata": {},
   "outputs": [
    {
     "data": {
      "text/plain": [
       "'4 days, 6:40:18'"
      ]
     },
     "execution_count": 9,
     "metadata": {},
     "output_type": "execute_result"
    }
   ],
   "source": [
    "conv_str"
   ]
  },
  {
   "cell_type": "markdown",
   "id": "6ac43612",
   "metadata": {},
   "source": [
    "2. We needs your help to construct a building which will be a pile of n cubes.\n",
    "The cube at the bottom will have a volume of n^3, the cube above will have\n",
    "volume of (n-1)^3 and so on until the top which will have a volume of 1^3.\n",
    "Given the total volume m of the building, can you find the number of cubes n\n",
    "required for the building?\n",
    "In other words, you have to return an integer n such that:\n",
    "n^3 + (n-1)^3 + ... + 1^3 == m\n",
    "Return None if there is no such number.\n",
    "Examples\n",
    "pile_of_cubes(1071225) ➞ 45\n",
    "pile_of_cubes(4183059834009) ➞ 2022\n",
    "pile_of_cubes(16) ➞ None"
   ]
  },
  {
   "cell_type": "code",
   "execution_count": 12,
   "id": "1da91b41",
   "metadata": {},
   "outputs": [],
   "source": [
    "def pile_of_cubes(s):\n",
    "    n =1\n",
    "    sum1 =0\n",
    "    while n<s:\n",
    "        sum1 = sum1+n**3\n",
    "        if sum1 ==s:\n",
    "            break\n",
    "        n +=1\n",
    "    if n ==s:\n",
    "        return 'None'\n",
    "    else:\n",
    "        return n\n",
    "    "
   ]
  },
  {
   "cell_type": "code",
   "execution_count": 13,
   "id": "1fb771ec",
   "metadata": {},
   "outputs": [
    {
     "data": {
      "text/plain": [
       "2022"
      ]
     },
     "execution_count": 13,
     "metadata": {},
     "output_type": "execute_result"
    }
   ],
   "source": [
    "pile_of_cubes(4183059834009)"
   ]
  },
  {
   "cell_type": "code",
   "execution_count": 14,
   "id": "d0e242b3",
   "metadata": {},
   "outputs": [
    {
     "data": {
      "text/plain": [
       "'None'"
      ]
     },
     "execution_count": 14,
     "metadata": {},
     "output_type": "execute_result"
    }
   ],
   "source": [
    "pile_of_cubes(16) "
   ]
  },
  {
   "cell_type": "code",
   "execution_count": 15,
   "id": "a4b3053f",
   "metadata": {},
   "outputs": [
    {
     "data": {
      "text/plain": [
       "45"
      ]
     },
     "execution_count": 15,
     "metadata": {},
     "output_type": "execute_result"
    }
   ],
   "source": [
    "pile_of_cubes(1071225)"
   ]
  },
  {
   "cell_type": "markdown",
   "id": "9e80b324",
   "metadata": {},
   "source": [
    "3. A fulcrum of a list is an integer such that all elements to the left of it and all\n",
    "elements to the right of it sum to the same value. Write a function that finds\n",
    "the fulcrum of a list.\n",
    "To illustrate:\n",
    "find_fulcrum([3, 1, 5, 2, 4, 6, -1]) ➞ 2\n",
    "// Since [3, 1, 5] and [4, 6, -1] both sum to 9\n",
    "Examples\n",
    "\n",
    "find_fulcrum([1, 2, 4, 9, 10, -10, -9, 3]) ➞ 4\n",
    "find_fulcrum([9, 1, 9]) ➞ 1\n",
    "find_fulcrum([7, -1, 0, -1, 1, 1, 2, 3]) ➞ 0\n",
    "find_fulcrum([8, 8, 8, 8]) ➞ -1\n"
   ]
  },
  {
   "cell_type": "code",
   "execution_count": 16,
   "id": "9c817a56",
   "metadata": {},
   "outputs": [],
   "source": [
    "def find_fulcrum(arr) :\n",
    "    size = len(arr)\n",
    "    right_sum, left_sum = 0, 0\n",
    " \n",
    "    # Computing right_sum\n",
    "    for i in range(1, size) :\n",
    "        right_sum += arr[i]\n",
    " \n",
    "    i, j = 0, 1\n",
    " \n",
    "    # Checking the point of partition\n",
    "    # i.e. left_Sum == right_sum\n",
    "    while j < size :\n",
    "        right_sum -= arr[j]\n",
    "        left_sum += arr[i]\n",
    " \n",
    "        if left_sum == right_sum :\n",
    "            return arr[i + 1]\n",
    " \n",
    "        j += 1\n",
    "        i += 1\n",
    " \n",
    "    return -1"
   ]
  },
  {
   "cell_type": "code",
   "execution_count": null,
   "id": "363fb797",
   "metadata": {},
   "outputs": [],
   "source": []
  },
  {
   "cell_type": "code",
   "execution_count": 17,
   "id": "e53b401a",
   "metadata": {},
   "outputs": [
    {
     "data": {
      "text/plain": [
       "4"
      ]
     },
     "execution_count": 17,
     "metadata": {},
     "output_type": "execute_result"
    }
   ],
   "source": [
    "find_fulcrum([1, 2, 4, 9, 10, -10, -9, 3])"
   ]
  },
  {
   "cell_type": "code",
   "execution_count": 18,
   "id": "6bd5a6a2",
   "metadata": {},
   "outputs": [
    {
     "data": {
      "text/plain": [
       "2"
      ]
     },
     "execution_count": 18,
     "metadata": {},
     "output_type": "execute_result"
    }
   ],
   "source": [
    "find_fulcrum([3, 1, 5, 2, 4, 6, -1]) "
   ]
  },
  {
   "cell_type": "code",
   "execution_count": 20,
   "id": "87f41df9",
   "metadata": {},
   "outputs": [
    {
     "data": {
      "text/plain": [
       "0"
      ]
     },
     "execution_count": 20,
     "metadata": {},
     "output_type": "execute_result"
    }
   ],
   "source": [
    "find_fulcrum([7, -1, 0, -1, 1, 1, 2, 3])"
   ]
  },
  {
   "cell_type": "code",
   "execution_count": 21,
   "id": "aa0c3bdc",
   "metadata": {},
   "outputs": [
    {
     "data": {
      "text/plain": [
       "-1"
      ]
     },
     "execution_count": 21,
     "metadata": {},
     "output_type": "execute_result"
    }
   ],
   "source": [
    "find_fulcrum([8, 8, 8, 8])"
   ]
  },
  {
   "cell_type": "markdown",
   "id": "c64601ac",
   "metadata": {},
   "source": [
    "4. Given a list of integers representing the color of each sock, determine how\n",
    "many pairs of socks with matching colors there are. For example, there are 7\n",
    "socks with colors [1, 2, 1, 2, 1, 3, 2]. There is one pair of color 1 and one of\n",
    "color 2. There are three odd socks left, one of each color. The number of\n",
    "pairs is 2.\n",
    "Create a function that returns an integer representing the number of matching\n",
    "pairs of socks that are available.\n",
    "Examples\n",
    "sock_merchant([10, 20, 20, 10, 10, 30, 50, 10, 20]) ➞ 3\n",
    "sock_merchant([50, 20, 30, 90, 30, 20, 50, 20, 90]) ➞ 4\n",
    "sock_merchant([]) ➞ 0\n"
   ]
  },
  {
   "cell_type": "code",
   "execution_count": 15,
   "id": "e0c59ab3",
   "metadata": {},
   "outputs": [],
   "source": [
    "def sock_merchant(lst):\n",
    "    unique_list = list(set(lst))\n",
    "    pair = 0\n",
    "    for i in unique_list:\n",
    "        if lst.count(i)//2 > 0:\n",
    "            pair = pair+lst.count(i)//2\n",
    "    return pair"
   ]
  },
  {
   "cell_type": "code",
   "execution_count": 16,
   "id": "13537a4d",
   "metadata": {},
   "outputs": [
    {
     "data": {
      "text/plain": [
       "3"
      ]
     },
     "execution_count": 16,
     "metadata": {},
     "output_type": "execute_result"
    }
   ],
   "source": [
    "sock_merchant([10, 20, 20, 10, 10, 30, 50, 10, 20]) "
   ]
  },
  {
   "cell_type": "code",
   "execution_count": 9,
   "id": "5569404f",
   "metadata": {},
   "outputs": [],
   "source": [
    "lst = [10, 20, 20, 10, 10, 30, 50, 10, 20]"
   ]
  },
  {
   "cell_type": "code",
   "execution_count": 10,
   "id": "e912c429",
   "metadata": {},
   "outputs": [
    {
     "data": {
      "text/plain": [
       "[10, 20, 20, 10, 10, 30, 50, 10, 20]"
      ]
     },
     "execution_count": 10,
     "metadata": {},
     "output_type": "execute_result"
    }
   ],
   "source": [
    "lst"
   ]
  },
  {
   "cell_type": "code",
   "execution_count": 11,
   "id": "8e533359",
   "metadata": {},
   "outputs": [
    {
     "data": {
      "text/plain": [
       "{10, 20, 30, 50}"
      ]
     },
     "execution_count": 11,
     "metadata": {},
     "output_type": "execute_result"
    }
   ],
   "source": [
    "set(lst)"
   ]
  },
  {
   "cell_type": "code",
   "execution_count": 17,
   "id": "30003412",
   "metadata": {},
   "outputs": [
    {
     "data": {
      "text/plain": [
       "list[{10, 20, 50, 30}]"
      ]
     },
     "execution_count": 17,
     "metadata": {},
     "output_type": "execute_result"
    }
   ],
   "source": [
    "list[set(lst)]"
   ]
  },
  {
   "cell_type": "markdown",
   "id": "ff47bcf9",
   "metadata": {},
   "source": [
    "5. Create a function that takes a string containing integers as well as other\n",
    "characters and return the sum of the negative integers only.\n",
    "Examples\n",
    "negative_sum(&quot;-12 13%14&amp;-11&quot;) ➞ -23\n",
    "# -12 + -11 = -23\n",
    "negative_sum(&quot;22 13%14&amp;-11-22 13 12&quot;) ➞ -33\n",
    "# -11 + -22 = -33"
   ]
  },
  {
   "cell_type": "code",
   "execution_count": 5,
   "id": "2fb824c6",
   "metadata": {},
   "outputs": [],
   "source": [
    "import re\n",
    "def negative_sum(s):\n",
    "    res = [int(d) for d in re.findall(r'-\\d+',s)]\n",
    "    print(\"negative numbers are\", res)\n",
    "    return 'sum is',sum(res)\n",
    "    "
   ]
  },
  {
   "cell_type": "code",
   "execution_count": 6,
   "id": "644fdf8b",
   "metadata": {},
   "outputs": [
    {
     "name": "stdout",
     "output_type": "stream",
     "text": [
      "negative numbers are [-12, -11]\n"
     ]
    },
    {
     "data": {
      "text/plain": [
       "('sum is', -23)"
      ]
     },
     "execution_count": 6,
     "metadata": {},
     "output_type": "execute_result"
    }
   ],
   "source": [
    "negative_sum(\"-12 13%14&-11\")"
   ]
  },
  {
   "cell_type": "code",
   "execution_count": 7,
   "id": "5c35aad8",
   "metadata": {},
   "outputs": [
    {
     "name": "stdout",
     "output_type": "stream",
     "text": [
      "negative numbers are [-11, -22]\n"
     ]
    },
    {
     "data": {
      "text/plain": [
       "('sum is', -33)"
      ]
     },
     "execution_count": 7,
     "metadata": {},
     "output_type": "execute_result"
    }
   ],
   "source": [
    "negative_sum(\"22 13%14&-11-22 13 12\")"
   ]
  },
  {
   "cell_type": "code",
   "execution_count": 3,
   "id": "be8663c8",
   "metadata": {},
   "outputs": [],
   "source": []
  },
  {
   "cell_type": "code",
   "execution_count": null,
   "id": "3a74d020",
   "metadata": {},
   "outputs": [],
   "source": []
  },
  {
   "cell_type": "code",
   "execution_count": null,
   "id": "586d7672",
   "metadata": {},
   "outputs": [],
   "source": []
  }
 ],
 "metadata": {
  "kernelspec": {
   "display_name": "Python 3 (ipykernel)",
   "language": "python",
   "name": "python3"
  },
  "language_info": {
   "codemirror_mode": {
    "name": "ipython",
    "version": 3
   },
   "file_extension": ".py",
   "mimetype": "text/x-python",
   "name": "python",
   "nbconvert_exporter": "python",
   "pygments_lexer": "ipython3",
   "version": "3.9.7"
  }
 },
 "nbformat": 4,
 "nbformat_minor": 5
}
