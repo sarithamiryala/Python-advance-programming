{
 "cells": [
  {
   "cell_type": "markdown",
   "id": "ad625085",
   "metadata": {},
   "source": [
    "1. Create a function that takes a number n (integer greater than zero) as an\n",
    "argument, and returns 2 if n is odd and 8 if n is even.\n",
    "You can only use the following arithmetic operators: addition of numbers +,\n",
    "subtraction of numbers -, multiplication of number *, division of number /, and\n",
    "exponentiation **.\n",
    "You are not allowed to use any other methods in this challenge (i.e. no if\n",
    "statements, comparison operators, etc).\n",
    "Examples\n",
    "f(1) ➞ 2\n",
    "f(2) ➞ 8\n",
    "f(3) ➞ 2\n"
   ]
  },
  {
   "cell_type": "code",
   "execution_count": 1,
   "id": "e0a82447",
   "metadata": {},
   "outputs": [],
   "source": [
    "def f(n):\n",
    "    str1 = (8,2)\n",
    "    return str1[n%2]"
   ]
  },
  {
   "cell_type": "code",
   "execution_count": 2,
   "id": "12db7498",
   "metadata": {},
   "outputs": [
    {
     "data": {
      "text/plain": [
       "2"
      ]
     },
     "execution_count": 2,
     "metadata": {},
     "output_type": "execute_result"
    }
   ],
   "source": [
    "f(1)"
   ]
  },
  {
   "cell_type": "code",
   "execution_count": 3,
   "id": "c8e60d4f",
   "metadata": {},
   "outputs": [
    {
     "data": {
      "text/plain": [
       "8"
      ]
     },
     "execution_count": 3,
     "metadata": {},
     "output_type": "execute_result"
    }
   ],
   "source": [
    "f(2)"
   ]
  },
  {
   "cell_type": "code",
   "execution_count": 4,
   "id": "302b1fc2",
   "metadata": {},
   "outputs": [
    {
     "data": {
      "text/plain": [
       "2"
      ]
     },
     "execution_count": 4,
     "metadata": {},
     "output_type": "execute_result"
    }
   ],
   "source": [
    "f(3)"
   ]
  },
  {
   "cell_type": "markdown",
   "id": "14c1ff0c",
   "metadata": {},
   "source": [
    "2. Create a function that returns the majority vote in a list. A majority vote is\n",
    "an element that occurs &gt; N/2 times in a list (where N is the length of the list).\n",
    "Examples\n",
    "majority_vote([&quot;A&quot;, &quot;A&quot;, &quot;B&quot;]) ➞ &quot;A&quot;\n",
    "majority_vote([&quot;A&quot;, &quot;A&quot;, &quot;A&quot;, &quot;B&quot;, &quot;C&quot;, &quot;A&quot;]) ➞ &quot;A&quot;\n",
    "majority_vote([&quot;A&quot;, &quot;B&quot;, &quot;B&quot;, &quot;A&quot;, &quot;C&quot;, &quot;C&quot;]) ➞ None\n"
   ]
  },
  {
   "cell_type": "code",
   "execution_count": 6,
   "id": "97ff6e16",
   "metadata": {},
   "outputs": [],
   "source": [
    "def majority_vote(lst):\n",
    "    list1 = []\n",
    "    maxcount = 0\n",
    "    count = 0\n",
    "    for i in lst:\n",
    "        if i not in list1:\n",
    "            count = lst.count(i)\n",
    "            list1.append(i)\n",
    "            if count > maxcount:\n",
    "                maxcount = count\n",
    "                majority_element = i\n",
    "    if maxcount > len(lst)//2:\n",
    "        return 'Majority element', majority_element\n",
    "    else: \n",
    "        return 'No Majority element'\n"
   ]
  },
  {
   "cell_type": "code",
   "execution_count": 7,
   "id": "697f3c9d",
   "metadata": {},
   "outputs": [
    {
     "data": {
      "text/plain": [
       "('Majority element', 'A')"
      ]
     },
     "execution_count": 7,
     "metadata": {},
     "output_type": "execute_result"
    }
   ],
   "source": [
    "majority_vote([\"A\", \"A\", \"B\"])"
   ]
  },
  {
   "cell_type": "code",
   "execution_count": 8,
   "id": "b91d3270",
   "metadata": {},
   "outputs": [
    {
     "data": {
      "text/plain": [
       "('Majority element', 'A')"
      ]
     },
     "execution_count": 8,
     "metadata": {},
     "output_type": "execute_result"
    }
   ],
   "source": [
    "majority_vote([\"A\", \"A\", \"A\", \"B\", \"C\", \"A\"])"
   ]
  },
  {
   "cell_type": "code",
   "execution_count": 9,
   "id": "404b9e11",
   "metadata": {},
   "outputs": [
    {
     "data": {
      "text/plain": [
       "'No Majority element'"
      ]
     },
     "execution_count": 9,
     "metadata": {},
     "output_type": "execute_result"
    }
   ],
   "source": [
    "majority_vote([\"A\", \"B\", \"B\", \"A\", \"C\", \"C\"])"
   ]
  },
  {
   "cell_type": "markdown",
   "id": "a46925cf",
   "metadata": {},
   "source": [
    "3. Create a function that takes a string txt and censors any word from a given\n",
    "list lst. The text removed must be replaced by the given character char.\n",
    "Examples\n",
    "censor_string(&quot;Today is a Wednesday!&quot;, [&quot;Today&quot;, &quot;a&quot;], &quot;-&quot;) ➞ &quot;----- is -\n",
    "Wednesday!&quot;\n",
    "censor_string(&quot;The cow jumped over the moon.&quot;, [&quot;cow&quot;, &quot;over&quot;], &quot;*&quot;), &quot;The ***\n",
    "jumped **** the moon.&quot;)\n",
    "censor_string(&quot;Why did the chicken cross the road?&quot;, [&quot;Did&quot;, &quot;chicken&quot;,\n",
    "&quot;road&quot;], &quot;*&quot;) ➞ &quot;Why *** the ******* cross the ****?&quot;\n",
    "\n"
   ]
  },
  {
   "cell_type": "code",
   "execution_count": 19,
   "id": "276de5c9",
   "metadata": {},
   "outputs": [],
   "source": [
    "def censor_string(str1,cen,rep):\n",
    "    str1 = str1.split(' ')\n",
    "    str2 = \"\"\n",
    "    for i in str1:\n",
    "        if i in cen:\n",
    "            str2 = str2+rep\n",
    "        else:\n",
    "            str2 = str2+i\n",
    "    return str2"
   ]
  },
  {
   "cell_type": "code",
   "execution_count": 20,
   "id": "d51f6f7b",
   "metadata": {},
   "outputs": [
    {
     "data": {
      "text/plain": [
       "'-is-Wednesday!'"
      ]
     },
     "execution_count": 20,
     "metadata": {},
     "output_type": "execute_result"
    }
   ],
   "source": [
    "censor_string(\"Today is a Wednesday!\", [\"Today\", \"a\"], \"-\")"
   ]
  },
  {
   "cell_type": "code",
   "execution_count": 22,
   "id": "69b72111",
   "metadata": {},
   "outputs": [
    {
     "data": {
      "text/plain": [
       "'The*jumped*themoon.'"
      ]
     },
     "execution_count": 22,
     "metadata": {},
     "output_type": "execute_result"
    }
   ],
   "source": [
    "censor_string(\"The cow jumped over the moon.\", [\"cow\", \"over\"], \"*\")"
   ]
  },
  {
   "cell_type": "code",
   "execution_count": 24,
   "id": "18fde008",
   "metadata": {},
   "outputs": [
    {
     "data": {
      "text/plain": [
       "'Whydidthe*crosstheroad?'"
      ]
     },
     "execution_count": 24,
     "metadata": {},
     "output_type": "execute_result"
    }
   ],
   "source": [
    "censor_string(\"Why did the chicken cross the road?\", [\"Did\", \"chicken\", \"road\"], \"*\") "
   ]
  },
  {
   "cell_type": "markdown",
   "id": "45146e05",
   "metadata": {},
   "source": [
    "4. In mathematics a Polydivisible Number (or magic number) is a number in a\n",
    "given number base with digits abcde... that has the following properties:\n",
    "- Its first digit a is not 0.\n",
    "- The number formed by its first two digits ab is a multiple of 2.\n",
    "- The number formed by its first three digits abc is a multiple of 3.\n",
    "- The number formed by its first four digits abcd is a multiple of 4.\n",
    "Create a function which takes an integer n and returns True if the given\n",
    "number is a Polydivisible Number and False otherwise.\n",
    "Examples\n",
    "is_polydivisible(1232) ➞ True\n",
    "# 1 / 1 = 1\n",
    "# 12 / 2 = 6\n",
    "# 123 / 3 = 41\n",
    "# 1232 / 4 = 308\n",
    "is_polydivisible(123220 ) ➞ False\n",
    "# 1 / 1 = 1\n",
    "# 12 / 2 = 6\n",
    "# 123 / 3 = 41\n",
    "# 1232 / 4 = 308\n",
    "# 12322 / 5 = 2464.4 # Not a Whole Number\n",
    "# 123220 /6 = 220536.333... # Not a Whole Number\n"
   ]
  },
  {
   "cell_type": "code",
   "execution_count": 20,
   "id": "75d7dfb1",
   "metadata": {},
   "outputs": [],
   "source": [
    "def is_polydivisible(n):\n",
    "    tempNum = n\n",
    "    digit = []\n",
    "  \n",
    "    # digit extraction of input number\n",
    "    while (n > 0):          \n",
    "        digit.append(n % 10)\n",
    "        n /= 10\n",
    "  \n",
    "    digit.reverse()\n",
    "  \n",
    "    flag = True\n",
    "    n = digit[0]\n",
    "    for i in range(1, len(digit)):\n",
    "\n",
    "        n = n * 10 + digit[i] # second digit  \n",
    "   \n",
    "        if (n % (i + 1) != 0):\n",
    "            flag = False\n",
    "            break\n",
    "      \n",
    "    if (flag):\n",
    "        return tempNum, \"is Polydivisible number.\"\n",
    "    else:\n",
    "        return tempNum, \"is Not Polydivisible number.\""
   ]
  },
  {
   "cell_type": "code",
   "execution_count": 23,
   "id": "46950b47",
   "metadata": {},
   "outputs": [
    {
     "data": {
      "text/plain": [
       "(12, 'is Not Polydivisible number.')"
      ]
     },
     "execution_count": 23,
     "metadata": {},
     "output_type": "execute_result"
    }
   ],
   "source": [
    "is_polydivisible(12) "
   ]
  },
  {
   "cell_type": "code",
   "execution_count": 18,
   "id": "21afba67",
   "metadata": {},
   "outputs": [],
   "source": [
    "num = 12345\n",
    "temp = num\n",
    "digits = []\n",
    "while (num>0):\n",
    "    digits.append(num%10)\n",
    "    num/= 10\n"
   ]
  },
  {
   "cell_type": "code",
   "execution_count": null,
   "id": "b55acabc",
   "metadata": {},
   "outputs": [],
   "source": []
  },
  {
   "cell_type": "code",
   "execution_count": 19,
   "id": "257144e0",
   "metadata": {},
   "outputs": [
    {
     "data": {
      "text/plain": [
       "[5,\n",
       " 4.5,\n",
       " 3.450000000000003,\n",
       " 2.3450000000000006,\n",
       " 1.2345000000000002,\n",
       " 0.12345000000000002,\n",
       " 0.012345000000000002,\n",
       " 0.0012345000000000001,\n",
       " 0.00012345000000000002,\n",
       " 1.2345000000000001e-05,\n",
       " 1.2345000000000002e-06,\n",
       " 1.2345e-07,\n",
       " 1.2345e-08,\n",
       " 1.2345e-09,\n",
       " 1.2345e-10,\n",
       " 1.2345e-11,\n",
       " 1.2345e-12,\n",
       " 1.2345e-13,\n",
       " 1.2345e-14,\n",
       " 1.2345e-15,\n",
       " 1.2345000000000001e-16,\n",
       " 1.2345000000000002e-17,\n",
       " 1.2345000000000002e-18,\n",
       " 1.2345000000000003e-19,\n",
       " 1.2345000000000003e-20,\n",
       " 1.2345000000000003e-21,\n",
       " 1.2345000000000003e-22,\n",
       " 1.2345000000000003e-23,\n",
       " 1.2345000000000003e-24,\n",
       " 1.2345000000000002e-25,\n",
       " 1.2345000000000001e-26,\n",
       " 1.2345e-27,\n",
       " 1.2345e-28,\n",
       " 1.2345000000000001e-29,\n",
       " 1.2345e-30,\n",
       " 1.2345e-31,\n",
       " 1.2345e-32,\n",
       " 1.2344999999999999e-33,\n",
       " 1.2344999999999998e-34,\n",
       " 1.2344999999999997e-35,\n",
       " 1.2344999999999997e-36,\n",
       " 1.2344999999999998e-37,\n",
       " 1.2345e-38,\n",
       " 1.2344999999999998e-39,\n",
       " 1.2344999999999997e-40,\n",
       " 1.2344999999999998e-41,\n",
       " 1.2344999999999998e-42,\n",
       " 1.2344999999999998e-43,\n",
       " 1.2344999999999998e-44,\n",
       " 1.2344999999999998e-45,\n",
       " 1.2344999999999998e-46,\n",
       " 1.2344999999999997e-47,\n",
       " 1.2344999999999998e-48,\n",
       " 1.2344999999999997e-49,\n",
       " 1.2344999999999998e-50,\n",
       " 1.2344999999999998e-51,\n",
       " 1.2344999999999998e-52,\n",
       " 1.2345e-53,\n",
       " 1.2344999999999999e-54,\n",
       " 1.2344999999999999e-55,\n",
       " 1.2344999999999999e-56,\n",
       " 1.2344999999999999e-57,\n",
       " 1.2345e-58,\n",
       " 1.2344999999999999e-59,\n",
       " 1.2344999999999999e-60,\n",
       " 1.2345e-61,\n",
       " 1.2345e-62,\n",
       " 1.2345e-63,\n",
       " 1.2345e-64,\n",
       " 1.2345e-65,\n",
       " 1.2345e-66,\n",
       " 1.2345000000000001e-67,\n",
       " 1.2345000000000001e-68,\n",
       " 1.2345000000000002e-69,\n",
       " 1.2345000000000003e-70,\n",
       " 1.2345000000000004e-71,\n",
       " 1.2345000000000003e-72,\n",
       " 1.2345000000000002e-73,\n",
       " 1.2345000000000003e-74,\n",
       " 1.2345000000000002e-75,\n",
       " 1.2345000000000002e-76,\n",
       " 1.2345000000000002e-77,\n",
       " 1.2345000000000001e-78,\n",
       " 1.2345000000000002e-79,\n",
       " 1.2345000000000002e-80,\n",
       " 1.2345000000000002e-81,\n",
       " 1.2345000000000003e-82,\n",
       " 1.2345000000000003e-83,\n",
       " 1.2345000000000004e-84,\n",
       " 1.2345000000000004e-85,\n",
       " 1.2345000000000003e-86,\n",
       " 1.2345000000000003e-87,\n",
       " 1.2345000000000003e-88,\n",
       " 1.2345000000000003e-89,\n",
       " 1.2345000000000003e-90,\n",
       " 1.2345000000000002e-91,\n",
       " 1.2345000000000002e-92,\n",
       " 1.2345000000000002e-93,\n",
       " 1.2345000000000002e-94,\n",
       " 1.2345000000000002e-95,\n",
       " 1.2345000000000003e-96,\n",
       " 1.2345000000000004e-97,\n",
       " 1.2345000000000004e-98,\n",
       " 1.2345000000000004e-99,\n",
       " 1.2345000000000004e-100,\n",
       " 1.2345000000000004e-101,\n",
       " 1.2345000000000004e-102,\n",
       " 1.2345000000000005e-103,\n",
       " 1.2345000000000005e-104,\n",
       " 1.2345000000000005e-105,\n",
       " 1.2345000000000005e-106,\n",
       " 1.2345000000000005e-107,\n",
       " 1.2345000000000005e-108,\n",
       " 1.2345000000000004e-109,\n",
       " 1.2345000000000005e-110,\n",
       " 1.2345000000000005e-111,\n",
       " 1.2345000000000005e-112,\n",
       " 1.2345000000000005e-113,\n",
       " 1.2345000000000004e-114,\n",
       " 1.2345000000000003e-115,\n",
       " 1.2345000000000003e-116,\n",
       " 1.2345000000000004e-117,\n",
       " 1.2345000000000005e-118,\n",
       " 1.2345000000000004e-119,\n",
       " 1.2345000000000004e-120,\n",
       " 1.2345000000000004e-121,\n",
       " 1.2345000000000003e-122,\n",
       " 1.2345000000000004e-123,\n",
       " 1.2345000000000003e-124,\n",
       " 1.2345000000000004e-125,\n",
       " 1.2345000000000003e-126,\n",
       " 1.2345000000000002e-127,\n",
       " 1.2345e-128,\n",
       " 1.2345000000000002e-129,\n",
       " 1.2345000000000002e-130,\n",
       " 1.2345000000000002e-131,\n",
       " 1.2345000000000001e-132,\n",
       " 1.2345000000000001e-133,\n",
       " 1.2345e-134,\n",
       " 1.2345e-135,\n",
       " 1.2345e-136,\n",
       " 1.2344999999999999e-137,\n",
       " 1.2344999999999998e-138,\n",
       " 1.2345e-139,\n",
       " 1.2344999999999999e-140,\n",
       " 1.2344999999999999e-141,\n",
       " 1.2345e-142,\n",
       " 1.2345e-143,\n",
       " 1.2345e-144,\n",
       " 1.2345e-145,\n",
       " 1.2345e-146,\n",
       " 1.2345000000000001e-147,\n",
       " 1.2345000000000001e-148,\n",
       " 1.2345e-149,\n",
       " 1.2345000000000002e-150,\n",
       " 1.2345000000000001e-151,\n",
       " 1.2345000000000002e-152,\n",
       " 1.2345000000000003e-153,\n",
       " 1.2345000000000003e-154,\n",
       " 1.2345000000000003e-155,\n",
       " 1.2345000000000001e-156,\n",
       " 1.2345000000000002e-157,\n",
       " 1.2345000000000002e-158,\n",
       " 1.2345000000000003e-159,\n",
       " 1.2345000000000003e-160,\n",
       " 1.2345000000000002e-161,\n",
       " 1.2345000000000002e-162,\n",
       " 1.2345000000000002e-163,\n",
       " 1.2345000000000001e-164,\n",
       " 1.2345e-165,\n",
       " 1.2345000000000001e-166,\n",
       " 1.2345e-167,\n",
       " 1.2345e-168,\n",
       " 1.2345e-169,\n",
       " 1.2345e-170,\n",
       " 1.2345000000000002e-171,\n",
       " 1.2345000000000001e-172,\n",
       " 1.2345000000000001e-173,\n",
       " 1.2345000000000002e-174,\n",
       " 1.2345000000000002e-175,\n",
       " 1.2345000000000002e-176,\n",
       " 1.2345000000000002e-177,\n",
       " 1.2345000000000003e-178,\n",
       " 1.2345000000000003e-179,\n",
       " 1.2345000000000003e-180,\n",
       " 1.2345000000000005e-181,\n",
       " 1.2345000000000005e-182,\n",
       " 1.2345000000000005e-183,\n",
       " 1.2345000000000006e-184,\n",
       " 1.2345000000000006e-185,\n",
       " 1.2345000000000006e-186,\n",
       " 1.2345000000000007e-187,\n",
       " 1.2345000000000006e-188,\n",
       " 1.2345000000000006e-189,\n",
       " 1.2345000000000005e-190,\n",
       " 1.2345000000000005e-191,\n",
       " 1.2345000000000005e-192,\n",
       " 1.2345000000000004e-193,\n",
       " 1.2345000000000005e-194,\n",
       " 1.2345000000000006e-195,\n",
       " 1.2345000000000006e-196,\n",
       " 1.2345000000000006e-197,\n",
       " 1.2345000000000007e-198,\n",
       " 1.2345000000000007e-199,\n",
       " 1.2345000000000007e-200,\n",
       " 1.2345000000000007e-201,\n",
       " 1.2345000000000008e-202,\n",
       " 1.2345000000000008e-203,\n",
       " 1.2345000000000009e-204,\n",
       " 1.2345000000000008e-205,\n",
       " 1.2345000000000008e-206,\n",
       " 1.2345000000000008e-207,\n",
       " 1.2345000000000008e-208,\n",
       " 1.2345000000000008e-209,\n",
       " 1.2345000000000008e-210,\n",
       " 1.2345000000000008e-211,\n",
       " 1.234500000000001e-212,\n",
       " 1.2345000000000008e-213,\n",
       " 1.2345000000000009e-214,\n",
       " 1.2345000000000008e-215,\n",
       " 1.2345000000000008e-216,\n",
       " 1.2345000000000009e-217,\n",
       " 1.234500000000001e-218,\n",
       " 1.2345000000000009e-219,\n",
       " 1.2345000000000008e-220,\n",
       " 1.2345000000000007e-221,\n",
       " 1.2345000000000007e-222,\n",
       " 1.2345000000000007e-223,\n",
       " 1.2345000000000008e-224,\n",
       " 1.2345000000000009e-225,\n",
       " 1.234500000000001e-226,\n",
       " 1.2345000000000009e-227,\n",
       " 1.2345000000000008e-228,\n",
       " 1.2345000000000008e-229,\n",
       " 1.2345000000000008e-230,\n",
       " 1.2345000000000008e-231,\n",
       " 1.2345000000000008e-232,\n",
       " 1.2345000000000008e-233,\n",
       " 1.2345000000000009e-234,\n",
       " 1.2345000000000009e-235,\n",
       " 1.2345000000000008e-236,\n",
       " 1.2345000000000007e-237,\n",
       " 1.2345000000000007e-238,\n",
       " 1.2345000000000007e-239,\n",
       " 1.2345000000000007e-240,\n",
       " 1.2345000000000007e-241,\n",
       " 1.2345000000000007e-242,\n",
       " 1.2345000000000008e-243,\n",
       " 1.2345000000000007e-244,\n",
       " 1.2345000000000008e-245,\n",
       " 1.2345000000000008e-246,\n",
       " 1.2345000000000009e-247,\n",
       " 1.234500000000001e-248,\n",
       " 1.234500000000001e-249,\n",
       " 1.2345000000000008e-250,\n",
       " 1.2345000000000008e-251,\n",
       " 1.2345000000000009e-252,\n",
       " 1.2345000000000009e-253,\n",
       " 1.2345000000000009e-254,\n",
       " 1.234500000000001e-255,\n",
       " 1.2345000000000009e-256,\n",
       " 1.2345000000000009e-257,\n",
       " 1.234500000000001e-258,\n",
       " 1.2345000000000009e-259,\n",
       " 1.2345000000000009e-260,\n",
       " 1.2345000000000008e-261,\n",
       " 1.2345000000000008e-262,\n",
       " 1.2345000000000008e-263,\n",
       " 1.2345000000000008e-264,\n",
       " 1.2345000000000008e-265,\n",
       " 1.2345000000000008e-266,\n",
       " 1.2345000000000008e-267,\n",
       " 1.2345000000000008e-268,\n",
       " 1.2345000000000009e-269,\n",
       " 1.2345000000000008e-270,\n",
       " 1.2345000000000007e-271,\n",
       " 1.2345000000000007e-272,\n",
       " 1.2345000000000007e-273,\n",
       " 1.2345000000000006e-274,\n",
       " 1.2345000000000006e-275,\n",
       " 1.2345000000000006e-276,\n",
       " 1.2345000000000007e-277,\n",
       " 1.2345000000000008e-278,\n",
       " 1.2345000000000008e-279,\n",
       " 1.2345000000000008e-280,\n",
       " 1.2345000000000009e-281,\n",
       " 1.234500000000001e-282,\n",
       " 1.234500000000001e-283,\n",
       " 1.234500000000001e-284,\n",
       " 1.234500000000001e-285,\n",
       " 1.234500000000001e-286,\n",
       " 1.2345000000000009e-287,\n",
       " 1.234500000000001e-288,\n",
       " 1.234500000000001e-289,\n",
       " 1.234500000000001e-290,\n",
       " 1.234500000000001e-291,\n",
       " 1.234500000000001e-292,\n",
       " 1.234500000000001e-293,\n",
       " 1.2345000000000009e-294,\n",
       " 1.2345000000000008e-295,\n",
       " 1.2345000000000007e-296,\n",
       " 1.2345000000000007e-297,\n",
       " 1.2345000000000006e-298,\n",
       " 1.2345000000000007e-299,\n",
       " 1.2345000000000006e-300,\n",
       " 1.2345000000000005e-301,\n",
       " 1.2345000000000005e-302,\n",
       " 1.2345000000000005e-303,\n",
       " 1.2345000000000004e-304,\n",
       " 1.2345000000000003e-305,\n",
       " 1.2345000000000002e-306,\n",
       " 1.2345000000000002e-307,\n",
       " 1.2345e-308,\n",
       " 1.2345e-309,\n",
       " 1.23450000000002e-310,\n",
       " 1.2345e-311,\n",
       " 1.2345e-312,\n",
       " 1.2345e-313,\n",
       " 1.2345e-314,\n",
       " 1.2345e-315,\n",
       " 1.2345e-316,\n",
       " 1.2345e-317,\n",
       " 1.2345e-318,\n",
       " 1.2345e-319,\n",
       " 1.2347e-320,\n",
       " 1.235e-321,\n",
       " 1.24e-322,\n",
       " 1e-323]"
      ]
     },
     "execution_count": 19,
     "metadata": {},
     "output_type": "execute_result"
    }
   ],
   "source": [
    "digits"
   ]
  },
  {
   "cell_type": "code",
   "execution_count": null,
   "id": "b5d0e011",
   "metadata": {},
   "outputs": [],
   "source": []
  },
  {
   "cell_type": "markdown",
   "id": "489e504e",
   "metadata": {},
   "source": [
    "5. Create a function that takes a list of numbers and returns the sum of all\n",
    "prime numbers in the list.\n",
    "Examples\n",
    "sum_primes([1, 2, 3, 4, 5, 6, 7, 8, 9, 10]) ➞ 17\n",
    "sum_primes([2, 3, 4, 11, 20, 50, 71]) ➞ 87\n",
    "sum_primes([]) ➞ None"
   ]
  },
  {
   "cell_type": "code",
   "execution_count": 29,
   "id": "fb10c0d2",
   "metadata": {},
   "outputs": [],
   "source": [
    "def check_primes(d):\n",
    "    flag = False\n",
    "    if d==1:\n",
    "        return False\n",
    "    if d>1:\n",
    "        for i in range(2, d):\n",
    "            if (d % i)== 0:\n",
    "                return False \n",
    "                break\n",
    "    return True\n",
    "    \n",
    "    \n"
   ]
  },
  {
   "cell_type": "code",
   "execution_count": 39,
   "id": "4ed12d30",
   "metadata": {},
   "outputs": [],
   "source": [
    "def sum_primes(l):\n",
    "    l1 = [n for n in l if check_primes(n)]\n",
    "    return l1,sum(l1)"
   ]
  },
  {
   "cell_type": "code",
   "execution_count": 40,
   "id": "071c67c3",
   "metadata": {},
   "outputs": [
    {
     "data": {
      "text/plain": [
       "([2, 3, 5], 10)"
      ]
     },
     "execution_count": 40,
     "metadata": {},
     "output_type": "execute_result"
    }
   ],
   "source": [
    "sum_primes([1,2,3,4,5])"
   ]
  },
  {
   "cell_type": "code",
   "execution_count": 33,
   "id": "f3a8b8ba",
   "metadata": {},
   "outputs": [
    {
     "data": {
      "text/plain": [
       "17"
      ]
     },
     "execution_count": 33,
     "metadata": {},
     "output_type": "execute_result"
    }
   ],
   "source": [
    "sum_primes([1, 2, 3, 4, 5, 6, 7, 8, 9, 10]) "
   ]
  },
  {
   "cell_type": "code",
   "execution_count": 34,
   "id": "cb066c5d",
   "metadata": {},
   "outputs": [
    {
     "data": {
      "text/plain": [
       "87"
      ]
     },
     "execution_count": 34,
     "metadata": {},
     "output_type": "execute_result"
    }
   ],
   "source": [
    "sum_primes([2, 3, 4, 11, 20, 50, 71]) "
   ]
  }
 ],
 "metadata": {
  "kernelspec": {
   "display_name": "Python 3 (ipykernel)",
   "language": "python",
   "name": "python3"
  },
  "language_info": {
   "codemirror_mode": {
    "name": "ipython",
    "version": 3
   },
   "file_extension": ".py",
   "mimetype": "text/x-python",
   "name": "python",
   "nbconvert_exporter": "python",
   "pygments_lexer": "ipython3",
   "version": "3.9.7"
  }
 },
 "nbformat": 4,
 "nbformat_minor": 5
}
